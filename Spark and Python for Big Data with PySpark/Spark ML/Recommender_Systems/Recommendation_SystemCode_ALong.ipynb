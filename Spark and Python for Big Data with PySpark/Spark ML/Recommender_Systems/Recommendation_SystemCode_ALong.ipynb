{
  "nbformat": 4,
  "nbformat_minor": 0,
  "metadata": {
    "colab": {
      "provenance": []
    },
    "kernelspec": {
      "name": "python3",
      "display_name": "Python 3"
    },
    "language_info": {
      "name": "python"
    }
  },
  "cells": [
    {
      "cell_type": "markdown",
      "source": [],
      "metadata": {
        "id": "VbmnVnRfXvcB"
      }
    },
    {
      "cell_type": "code",
      "source": [
        "!pip install pyspark"
      ],
      "metadata": {
        "colab": {
          "base_uri": "https://localhost:8080/"
        },
        "id": "cWj_AQvWQ_8D",
        "outputId": "c3aa27bc-df4d-443f-cf9a-d8646643885a"
      },
      "execution_count": 136,
      "outputs": [
        {
          "output_type": "stream",
          "name": "stdout",
          "text": [
            "Requirement already satisfied: pyspark in /usr/local/lib/python3.10/dist-packages (3.5.0)\n",
            "Requirement already satisfied: py4j==0.10.9.7 in /usr/local/lib/python3.10/dist-packages (from pyspark) (0.10.9.7)\n"
          ]
        }
      ]
    },
    {
      "cell_type": "code",
      "execution_count": 137,
      "metadata": {
        "id": "byECV_jlQk8s"
      },
      "outputs": [],
      "source": [
        "from pyspark.sql import SparkSession"
      ]
    },
    {
      "cell_type": "code",
      "source": [
        "spark = SparkSession.builder.appName('rec').getOrCreate()"
      ],
      "metadata": {
        "id": "PEpJpBsbr2N7"
      },
      "execution_count": 213,
      "outputs": []
    },
    {
      "cell_type": "code",
      "source": [
        "data = spark.read.csv('movielens_ratings.csv',inferSchema=True,header=True)"
      ],
      "metadata": {
        "id": "F_AoyVQkxKv5"
      },
      "execution_count": 214,
      "outputs": []
    },
    {
      "cell_type": "code",
      "source": [
        "data.head()"
      ],
      "metadata": {
        "colab": {
          "base_uri": "https://localhost:8080/"
        },
        "id": "h7RA2yMjxQPn",
        "outputId": "a523071c-2310-4ba4-a29c-5147c23d196e"
      },
      "execution_count": 215,
      "outputs": [
        {
          "output_type": "execute_result",
          "data": {
            "text/plain": [
              "Row(movieId=2, rating=3.0, userId=0)"
            ]
          },
          "metadata": {},
          "execution_count": 215
        }
      ]
    },
    {
      "cell_type": "code",
      "source": [
        "data.describe().show()"
      ],
      "metadata": {
        "colab": {
          "base_uri": "https://localhost:8080/"
        },
        "id": "Y79hp3NFxRqx",
        "outputId": "987fce17-de16-4653-9781-cfbc4a095da3"
      },
      "execution_count": 216,
      "outputs": [
        {
          "output_type": "stream",
          "name": "stdout",
          "text": [
            "+-------+------------------+------------------+------------------+\n",
            "|summary|           movieId|            rating|            userId|\n",
            "+-------+------------------+------------------+------------------+\n",
            "|  count|              1501|              1501|              1501|\n",
            "|   mean| 49.40572951365756|1.7741505662891406|14.383744170552964|\n",
            "| stddev|28.937034065088994| 1.187276166124803| 8.591040424293272|\n",
            "|    min|                 0|               1.0|                 0|\n",
            "|    max|                99|               5.0|                29|\n",
            "+-------+------------------+------------------+------------------+\n",
            "\n"
          ]
        }
      ]
    },
    {
      "cell_type": "code",
      "source": [
        "(training, test) = data.randomSplit([0.8, 0.2])"
      ],
      "metadata": {
        "id": "AEMVC_H5xS5I"
      },
      "execution_count": 217,
      "outputs": []
    },
    {
      "cell_type": "code",
      "source": [
        "from pyspark.ml.evaluation import RegressionEvaluator\n",
        "from pyspark.ml.recommendation import ALS"
      ],
      "metadata": {
        "id": "kJ-7FbkqxbIs"
      },
      "execution_count": 219,
      "outputs": []
    },
    {
      "cell_type": "code",
      "source": [
        "als = ALS(maxIter=5, regParam=0.01, userCol=\"userId\", itemCol=\"movieId\", ratingCol=\"rating\")\n",
        "model = als.fit(training)"
      ],
      "metadata": {
        "id": "LcBtAGmCxVA2"
      },
      "execution_count": 220,
      "outputs": []
    },
    {
      "cell_type": "code",
      "source": [
        "predictions = model.transform(test)"
      ],
      "metadata": {
        "id": "8Xb9d0_1xWX2"
      },
      "execution_count": 221,
      "outputs": []
    },
    {
      "cell_type": "code",
      "source": [
        "predictions.show()"
      ],
      "metadata": {
        "colab": {
          "base_uri": "https://localhost:8080/"
        },
        "id": "nWh-n8aExeZa",
        "outputId": "f3dc2d05-bc03-4fdb-b059-58aac2f7bac0"
      },
      "execution_count": 222,
      "outputs": [
        {
          "output_type": "stream",
          "name": "stdout",
          "text": [
            "+-------+------+------+-----------+\n",
            "|movieId|rating|userId| prediction|\n",
            "+-------+------+------+-----------+\n",
            "|      0|   3.0|    28| 0.38884866|\n",
            "|      1|   1.0|    28|  -4.823266|\n",
            "|      3|   2.0|    22|  2.3853295|\n",
            "|      3|   1.0|    13|  1.2616079|\n",
            "|      2|   3.0|     6|-0.41861135|\n",
            "|      0|   1.0|     3| 0.60900205|\n",
            "|      1|   1.0|    20|  1.2824459|\n",
            "|      2|   2.0|    20| -1.3807023|\n",
            "|      2|   1.0|    19|-0.00545913|\n",
            "|      0|   1.0|     8|  1.0549874|\n",
            "|      3|   2.0|     8|  3.8561404|\n",
            "|      4|   1.0|    23|  1.0149773|\n",
            "|      4|   1.0|     7|  1.2509109|\n",
            "|      0|   3.0|    10|  0.9998375|\n",
            "|      1|   3.0|    25|  3.0079117|\n",
            "|      3|   1.0|    29|   0.209504|\n",
            "|      4|   1.0|    29|  2.3794942|\n",
            "|      1|   1.0|    14|  1.1450403|\n",
            "|      4|   1.0|    14| 0.67601746|\n",
            "|      2|   3.0|     0|  0.6522946|\n",
            "+-------+------+------+-----------+\n",
            "only showing top 20 rows\n",
            "\n"
          ]
        }
      ]
    },
    {
      "cell_type": "code",
      "source": [
        "evaluator = RegressionEvaluator(metricName=\"rmse\", labelCol=\"rating\",predictionCol=\"prediction\")\n",
        "rmse = evaluator.evaluate(predictions)\n",
        "print(\"Root-mean-square error = \" + str(rmse))"
      ],
      "metadata": {
        "colab": {
          "base_uri": "https://localhost:8080/"
        },
        "id": "XtxL7UNQxfsC",
        "outputId": "7fe62c87-e5b5-4ee0-e1f4-cf87245d3d0a"
      },
      "execution_count": 223,
      "outputs": [
        {
          "output_type": "stream",
          "name": "stdout",
          "text": [
            "Root-mean-square error = 1.8470656792315587\n"
          ]
        }
      ]
    },
    {
      "cell_type": "code",
      "source": [
        "single_user = test.filter(test['userId']==11).select(['movieId','userId'])"
      ],
      "metadata": {
        "id": "0Fi-ORCcxhF0"
      },
      "execution_count": 224,
      "outputs": []
    },
    {
      "cell_type": "code",
      "source": [
        "single_user.show()"
      ],
      "metadata": {
        "colab": {
          "base_uri": "https://localhost:8080/"
        },
        "id": "hqgRbqtlxiiH",
        "outputId": "ccea2edf-3f1c-4219-9f3c-361fdb93afa1"
      },
      "execution_count": 225,
      "outputs": [
        {
          "output_type": "stream",
          "name": "stdout",
          "text": [
            "+-------+------+\n",
            "|movieId|userId|\n",
            "+-------+------+\n",
            "|      9|    11|\n",
            "|     13|    11|\n",
            "|     18|    11|\n",
            "|     19|    11|\n",
            "|     23|    11|\n",
            "|     39|    11|\n",
            "|     41|    11|\n",
            "|     70|    11|\n",
            "|     72|    11|\n",
            "|     75|    11|\n",
            "|     82|    11|\n",
            "|     89|    11|\n",
            "+-------+------+\n",
            "\n"
          ]
        }
      ]
    },
    {
      "cell_type": "code",
      "source": [
        "reccomendations = model.transform(single_user)"
      ],
      "metadata": {
        "id": "wu1pDDekxkCP"
      },
      "execution_count": 226,
      "outputs": []
    },
    {
      "cell_type": "code",
      "source": [
        "reccomendations.orderBy('prediction',ascending=False).show()"
      ],
      "metadata": {
        "colab": {
          "base_uri": "https://localhost:8080/"
        },
        "id": "2pHP8p_sxljM",
        "outputId": "40a8af15-50e8-418d-f070-a96c184e0a5f"
      },
      "execution_count": 227,
      "outputs": [
        {
          "output_type": "stream",
          "name": "stdout",
          "text": [
            "+-------+------+----------+\n",
            "|movieId|userId|prediction|\n",
            "+-------+------+----------+\n",
            "|     41|    11|   4.55385|\n",
            "|     39|    11|  4.406943|\n",
            "|      9|    11| 3.5625591|\n",
            "|     89|    11| 3.4879022|\n",
            "|     19|    11| 3.2384014|\n",
            "|     23|    11| 3.1728396|\n",
            "|     13|    11| 2.2196548|\n",
            "|     75|    11| 1.3696997|\n",
            "|     82|    11| 1.2324307|\n",
            "|     70|    11| 0.6274237|\n",
            "|     72|    11|0.29770637|\n",
            "|     18|    11|0.13117556|\n",
            "+-------+------+----------+\n",
            "\n"
          ]
        }
      ]
    },
    {
      "cell_type": "code",
      "source": [],
      "metadata": {
        "id": "fwpgWvpsxmy0"
      },
      "execution_count": null,
      "outputs": []
    }
  ]
}