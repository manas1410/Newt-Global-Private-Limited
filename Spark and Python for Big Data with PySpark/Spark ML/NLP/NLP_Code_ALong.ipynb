{
  "nbformat": 4,
  "nbformat_minor": 0,
  "metadata": {
    "colab": {
      "provenance": []
    },
    "kernelspec": {
      "name": "python3",
      "display_name": "Python 3"
    },
    "language_info": {
      "name": "python"
    }
  },
  "cells": [
    {
      "cell_type": "markdown",
      "source": [],
      "metadata": {
        "id": "VbmnVnRfXvcB"
      }
    },
    {
      "cell_type": "code",
      "source": [
        "!pip install pyspark"
      ],
      "metadata": {
        "colab": {
          "base_uri": "https://localhost:8080/"
        },
        "id": "cWj_AQvWQ_8D",
        "outputId": "c3aa27bc-df4d-443f-cf9a-d8646643885a"
      },
      "execution_count": 136,
      "outputs": [
        {
          "output_type": "stream",
          "name": "stdout",
          "text": [
            "Requirement already satisfied: pyspark in /usr/local/lib/python3.10/dist-packages (3.5.0)\n",
            "Requirement already satisfied: py4j==0.10.9.7 in /usr/local/lib/python3.10/dist-packages (from pyspark) (0.10.9.7)\n"
          ]
        }
      ]
    },
    {
      "cell_type": "code",
      "execution_count": 137,
      "metadata": {
        "id": "byECV_jlQk8s"
      },
      "outputs": [],
      "source": [
        "from pyspark.sql import SparkSession"
      ]
    },
    {
      "cell_type": "code",
      "source": [
        "spark = SparkSession.builder.appName('nlp').getOrCreate()"
      ],
      "metadata": {
        "id": "PEpJpBsbr2N7"
      },
      "execution_count": 228,
      "outputs": []
    },
    {
      "cell_type": "code",
      "source": [
        "data = spark.read.csv(\"SMSSpamCollection\",inferSchema=True,sep='\\t')"
      ],
      "metadata": {
        "id": "lbZVqZ3YyE5e"
      },
      "execution_count": 230,
      "outputs": []
    },
    {
      "cell_type": "code",
      "source": [
        "data = data.withColumnRenamed('_c0','class').withColumnRenamed('_c1','text')"
      ],
      "metadata": {
        "id": "LziMRtqqyGeA"
      },
      "execution_count": 231,
      "outputs": []
    },
    {
      "cell_type": "code",
      "source": [
        "data.show()"
      ],
      "metadata": {
        "colab": {
          "base_uri": "https://localhost:8080/"
        },
        "id": "UzApwMpyygfy",
        "outputId": "8088d7aa-6456-464d-b2ca-15925df72f9d"
      },
      "execution_count": 232,
      "outputs": [
        {
          "output_type": "stream",
          "name": "stdout",
          "text": [
            "+-----+--------------------+\n",
            "|class|                text|\n",
            "+-----+--------------------+\n",
            "|  ham|Go until jurong p...|\n",
            "|  ham|Ok lar... Joking ...|\n",
            "| spam|Free entry in 2 a...|\n",
            "|  ham|U dun say so earl...|\n",
            "|  ham|Nah I don't think...|\n",
            "| spam|FreeMsg Hey there...|\n",
            "|  ham|Even my brother i...|\n",
            "|  ham|As per your reque...|\n",
            "| spam|WINNER!! As a val...|\n",
            "| spam|Had your mobile 1...|\n",
            "|  ham|I'm gonna be home...|\n",
            "| spam|SIX chances to wi...|\n",
            "| spam|URGENT! You have ...|\n",
            "|  ham|I've been searchi...|\n",
            "|  ham|I HAVE A DATE ON ...|\n",
            "| spam|XXXMobileMovieClu...|\n",
            "|  ham|Oh k...i'm watchi...|\n",
            "|  ham|Eh u remember how...|\n",
            "|  ham|Fine if thats th...|\n",
            "| spam|England v Macedon...|\n",
            "+-----+--------------------+\n",
            "only showing top 20 rows\n",
            "\n"
          ]
        }
      ]
    },
    {
      "cell_type": "code",
      "source": [
        "from pyspark.sql.functions import length"
      ],
      "metadata": {
        "id": "4ZsGnBZCyhi2"
      },
      "execution_count": 233,
      "outputs": []
    },
    {
      "cell_type": "code",
      "source": [
        "data = data.withColumn('length',length(data['text']))"
      ],
      "metadata": {
        "id": "7fB0K908yjp2"
      },
      "execution_count": 234,
      "outputs": []
    },
    {
      "cell_type": "code",
      "source": [
        "data.show()"
      ],
      "metadata": {
        "colab": {
          "base_uri": "https://localhost:8080/"
        },
        "id": "GMdF-ICgykqt",
        "outputId": "54383ff4-1341-4abd-9ca0-959966556740"
      },
      "execution_count": 235,
      "outputs": [
        {
          "output_type": "stream",
          "name": "stdout",
          "text": [
            "+-----+--------------------+------+\n",
            "|class|                text|length|\n",
            "+-----+--------------------+------+\n",
            "|  ham|Go until jurong p...|   111|\n",
            "|  ham|Ok lar... Joking ...|    29|\n",
            "| spam|Free entry in 2 a...|   155|\n",
            "|  ham|U dun say so earl...|    49|\n",
            "|  ham|Nah I don't think...|    61|\n",
            "| spam|FreeMsg Hey there...|   147|\n",
            "|  ham|Even my brother i...|    77|\n",
            "|  ham|As per your reque...|   160|\n",
            "| spam|WINNER!! As a val...|   157|\n",
            "| spam|Had your mobile 1...|   154|\n",
            "|  ham|I'm gonna be home...|   109|\n",
            "| spam|SIX chances to wi...|   136|\n",
            "| spam|URGENT! You have ...|   155|\n",
            "|  ham|I've been searchi...|   196|\n",
            "|  ham|I HAVE A DATE ON ...|    35|\n",
            "| spam|XXXMobileMovieClu...|   149|\n",
            "|  ham|Oh k...i'm watchi...|    26|\n",
            "|  ham|Eh u remember how...|    81|\n",
            "|  ham|Fine if thats th...|    56|\n",
            "| spam|England v Macedon...|   155|\n",
            "+-----+--------------------+------+\n",
            "only showing top 20 rows\n",
            "\n"
          ]
        }
      ]
    },
    {
      "cell_type": "code",
      "source": [
        "data.groupby('class').mean().show()"
      ],
      "metadata": {
        "colab": {
          "base_uri": "https://localhost:8080/"
        },
        "id": "1Bxa2bFuyl4d",
        "outputId": "6195ba4a-1fb3-4048-c978-2b2b04667549"
      },
      "execution_count": 236,
      "outputs": [
        {
          "output_type": "stream",
          "name": "stdout",
          "text": [
            "+-----+-----------------+\n",
            "|class|      avg(length)|\n",
            "+-----+-----------------+\n",
            "|  ham|71.45431945307645|\n",
            "| spam|138.6706827309237|\n",
            "+-----+-----------------+\n",
            "\n"
          ]
        }
      ]
    },
    {
      "cell_type": "code",
      "source": [
        "from pyspark.ml.feature import Tokenizer,StopWordsRemover, CountVectorizer,IDF,StringIndexer\n",
        "\n",
        "tokenizer = Tokenizer(inputCol=\"text\", outputCol=\"token_text\")\n",
        "stopremove = StopWordsRemover(inputCol='token_text',outputCol='stop_tokens')\n",
        "count_vec = CountVectorizer(inputCol='stop_tokens',outputCol='c_vec')\n",
        "idf = IDF(inputCol=\"c_vec\", outputCol=\"tf_idf\")\n",
        "ham_spam_to_num = StringIndexer(inputCol='class',outputCol='label')"
      ],
      "metadata": {
        "id": "471tfLI3ynXT"
      },
      "execution_count": 237,
      "outputs": []
    },
    {
      "cell_type": "code",
      "source": [
        "from pyspark.ml.feature import VectorAssembler\n",
        "from pyspark.ml.linalg import Vector"
      ],
      "metadata": {
        "id": "TA1Mz8eRyo88"
      },
      "execution_count": 238,
      "outputs": []
    },
    {
      "cell_type": "code",
      "source": [
        "clean_up = VectorAssembler(inputCols=['tf_idf','length'],outputCol='features')"
      ],
      "metadata": {
        "id": "GdpJNI_GyqYc"
      },
      "execution_count": 239,
      "outputs": []
    },
    {
      "cell_type": "code",
      "source": [
        "from pyspark.ml.classification import NaiveBayes"
      ],
      "metadata": {
        "id": "Xz8imqeWyrjt"
      },
      "execution_count": 240,
      "outputs": []
    },
    {
      "cell_type": "code",
      "source": [
        "nb = NaiveBayes()"
      ],
      "metadata": {
        "id": "m5rzk43EytdX"
      },
      "execution_count": 241,
      "outputs": []
    },
    {
      "cell_type": "code",
      "source": [
        "from pyspark.ml import Pipeline"
      ],
      "metadata": {
        "id": "ZkbL_Y2JyuoN"
      },
      "execution_count": 242,
      "outputs": []
    },
    {
      "cell_type": "code",
      "source": [
        "data_prep_pipe = Pipeline(stages=[ham_spam_to_num,tokenizer,stopremove,count_vec,idf,clean_up])"
      ],
      "metadata": {
        "id": "Od9Vo30Zyv0j"
      },
      "execution_count": 243,
      "outputs": []
    },
    {
      "cell_type": "code",
      "source": [
        "cleaner = data_prep_pipe.fit(data)"
      ],
      "metadata": {
        "id": "5MbXPaGgyxqL"
      },
      "execution_count": 244,
      "outputs": []
    },
    {
      "cell_type": "code",
      "source": [
        "clean_data = cleaner.transform(data)"
      ],
      "metadata": {
        "id": "aHeqfEbiyzBW"
      },
      "execution_count": 245,
      "outputs": []
    },
    {
      "cell_type": "code",
      "source": [
        "clean_data = clean_data.select(['label','features'])"
      ],
      "metadata": {
        "id": "e5wlngVqy0Ta"
      },
      "execution_count": 246,
      "outputs": []
    },
    {
      "cell_type": "code",
      "source": [
        "clean_data.show()"
      ],
      "metadata": {
        "colab": {
          "base_uri": "https://localhost:8080/"
        },
        "id": "GS3jk_Vdy1Zl",
        "outputId": "dac1f10e-8286-4d4f-dbac-6727b2ed18f5"
      },
      "execution_count": 247,
      "outputs": [
        {
          "output_type": "stream",
          "name": "stdout",
          "text": [
            "+-----+--------------------+\n",
            "|label|            features|\n",
            "+-----+--------------------+\n",
            "|  0.0|(13424,[7,11,31,6...|\n",
            "|  0.0|(13424,[0,24,301,...|\n",
            "|  1.0|(13424,[2,13,19,3...|\n",
            "|  0.0|(13424,[0,70,80,1...|\n",
            "|  0.0|(13424,[36,134,31...|\n",
            "|  1.0|(13424,[10,60,140...|\n",
            "|  0.0|(13424,[10,53,102...|\n",
            "|  0.0|(13424,[127,185,4...|\n",
            "|  1.0|(13424,[1,47,121,...|\n",
            "|  1.0|(13424,[0,1,13,27...|\n",
            "|  0.0|(13424,[18,43,117...|\n",
            "|  1.0|(13424,[8,16,37,8...|\n",
            "|  1.0|(13424,[13,30,47,...|\n",
            "|  0.0|(13424,[39,95,221...|\n",
            "|  0.0|(13424,[555,1797,...|\n",
            "|  1.0|(13424,[30,109,11...|\n",
            "|  0.0|(13424,[82,214,44...|\n",
            "|  0.0|(13424,[0,2,49,13...|\n",
            "|  0.0|(13424,[0,74,105,...|\n",
            "|  1.0|(13424,[4,30,33,5...|\n",
            "+-----+--------------------+\n",
            "only showing top 20 rows\n",
            "\n"
          ]
        }
      ]
    },
    {
      "cell_type": "code",
      "source": [
        "(training,testing) = clean_data.randomSplit([0.7,0.3])"
      ],
      "metadata": {
        "id": "yWzwv5Yby2c7"
      },
      "execution_count": 248,
      "outputs": []
    },
    {
      "cell_type": "code",
      "source": [
        "spam_predictor = nb.fit(training)"
      ],
      "metadata": {
        "id": "mpgg-I-py31j"
      },
      "execution_count": 249,
      "outputs": []
    },
    {
      "cell_type": "code",
      "source": [
        "data.printSchema()"
      ],
      "metadata": {
        "colab": {
          "base_uri": "https://localhost:8080/"
        },
        "id": "Bh_rqet_y5BZ",
        "outputId": "69224838-3cd5-422c-9da3-59fe63d0defb"
      },
      "execution_count": 250,
      "outputs": [
        {
          "output_type": "stream",
          "name": "stdout",
          "text": [
            "root\n",
            " |-- class: string (nullable = true)\n",
            " |-- text: string (nullable = true)\n",
            " |-- length: integer (nullable = true)\n",
            "\n"
          ]
        }
      ]
    },
    {
      "cell_type": "code",
      "source": [
        "test_results = spam_predictor.transform(testing)"
      ],
      "metadata": {
        "id": "6B8Q_VFGy6NB"
      },
      "execution_count": 251,
      "outputs": []
    },
    {
      "cell_type": "code",
      "source": [
        "test_results.show()"
      ],
      "metadata": {
        "colab": {
          "base_uri": "https://localhost:8080/"
        },
        "id": "YNOC4mY5y7Xo",
        "outputId": "e16d6096-99d9-4003-e0ee-37ce61c80f1d"
      },
      "execution_count": 252,
      "outputs": [
        {
          "output_type": "stream",
          "name": "stdout",
          "text": [
            "+-----+--------------------+--------------------+--------------------+----------+\n",
            "|label|            features|       rawPrediction|         probability|prediction|\n",
            "+-----+--------------------+--------------------+--------------------+----------+\n",
            "|  0.0|(13424,[0,1,7,8,1...|[-880.46793865985...|[1.0,2.8704041376...|       0.0|\n",
            "|  0.0|(13424,[0,1,7,8,1...|[-1173.3950241681...|[1.0,2.4298070857...|       0.0|\n",
            "|  0.0|(13424,[0,1,7,15,...|[-661.89341466972...|[1.0,1.2759625607...|       0.0|\n",
            "|  0.0|(13424,[0,1,15,20...|[-669.51787603326...|[1.0,1.5505191489...|       0.0|\n",
            "|  0.0|(13424,[0,1,18,20...|[-844.55430109586...|[1.0,1.7339150724...|       0.0|\n",
            "|  0.0|(13424,[0,1,20,27...|[-969.34019749141...|[1.0,2.1241852840...|       0.0|\n",
            "|  0.0|(13424,[0,1,24,31...|[-355.42255796112...|[1.0,1.8482204443...|       0.0|\n",
            "|  0.0|(13424,[0,1,30,11...|[-592.49524782398...|[1.0,7.2651825971...|       0.0|\n",
            "|  0.0|(13424,[0,1,500,5...|[-322.00186635670...|[0.99999999997050...|       0.0|\n",
            "|  0.0|(13424,[0,1,4305,...|[-127.96537019340...|[0.99997606027974...|       0.0|\n",
            "|  0.0|(13424,[0,2,3,6,9...|[-3411.7982190888...|[1.0,9.2782499686...|       0.0|\n",
            "|  0.0|(13424,[0,2,3,6,9...|[-3411.7982190888...|[1.0,9.2782499686...|       0.0|\n",
            "|  0.0|(13424,[0,2,4,7,2...|[-513.26340473201...|[1.0,5.5270700255...|       0.0|\n",
            "|  0.0|(13424,[0,2,4,8,2...|[-1421.7066174517...|[1.0,4.2020317433...|       0.0|\n",
            "|  0.0|(13424,[0,2,4,8,2...|[-565.67780333165...|[1.0,3.8109217350...|       0.0|\n",
            "|  0.0|(13424,[0,2,4,10,...|[-1230.6588953725...|[1.0,3.7321393667...|       0.0|\n",
            "|  0.0|(13424,[0,2,4,11,...|[-1128.6418625468...|[1.0,8.3008342356...|       0.0|\n",
            "|  0.0|(13424,[0,2,4,26,...|[-425.22633102990...|[1.0,9.6620498106...|       0.0|\n",
            "|  0.0|(13424,[0,2,7,11,...|[-836.01210196962...|[1.0,3.3828107553...|       0.0|\n",
            "|  0.0|(13424,[0,2,7,27,...|[-470.74510397316...|[0.00818976309221...|       1.0|\n",
            "+-----+--------------------+--------------------+--------------------+----------+\n",
            "only showing top 20 rows\n",
            "\n"
          ]
        }
      ]
    },
    {
      "cell_type": "code",
      "source": [
        "from pyspark.ml.evaluation import MulticlassClassificationEvaluator"
      ],
      "metadata": {
        "id": "rIkVNLIRy8gx"
      },
      "execution_count": 253,
      "outputs": []
    },
    {
      "cell_type": "code",
      "source": [
        "acc_eval = MulticlassClassificationEvaluator()\n",
        "acc = acc_eval.evaluate(test_results)\n",
        "print(\"Accuracy of model at predicting spam was: {}\".format(acc))"
      ],
      "metadata": {
        "colab": {
          "base_uri": "https://localhost:8080/"
        },
        "id": "jH1LfwFxy9-x",
        "outputId": "c4ab1dd4-570c-4a3b-aef6-5823f9caf0c2"
      },
      "execution_count": 254,
      "outputs": [
        {
          "output_type": "stream",
          "name": "stdout",
          "text": [
            "Accuracy of model at predicting spam was: 0.9278251553773491\n"
          ]
        }
      ]
    },
    {
      "cell_type": "code",
      "source": [],
      "metadata": {
        "id": "mI6ep5XUy_ID"
      },
      "execution_count": null,
      "outputs": []
    }
  ]
}