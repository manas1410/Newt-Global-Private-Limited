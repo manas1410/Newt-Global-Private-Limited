{
  "nbformat": 4,
  "nbformat_minor": 0,
  "metadata": {
    "colab": {
      "provenance": []
    },
    "kernelspec": {
      "name": "python3",
      "display_name": "Python 3"
    },
    "language_info": {
      "name": "python"
    }
  },
  "cells": [
    {
      "cell_type": "markdown",
      "source": [],
      "metadata": {
        "id": "VbmnVnRfXvcB"
      }
    },
    {
      "cell_type": "code",
      "source": [
        "!pip install pyspark"
      ],
      "metadata": {
        "colab": {
          "base_uri": "https://localhost:8080/"
        },
        "id": "cWj_AQvWQ_8D",
        "outputId": "acc2592e-8753-4ccb-bbd8-737ece77e20c"
      },
      "execution_count": 2,
      "outputs": [
        {
          "output_type": "stream",
          "name": "stdout",
          "text": [
            "Collecting pyspark\n",
            "  Downloading pyspark-3.5.0.tar.gz (316.9 MB)\n",
            "\u001b[2K     \u001b[90m━━━━━━━━━━━━━━━━━━━━━━━━━━━━━━━━━━━━━━━━\u001b[0m \u001b[32m316.9/316.9 MB\u001b[0m \u001b[31m3.2 MB/s\u001b[0m eta \u001b[36m0:00:00\u001b[0m\n",
            "\u001b[?25h  Preparing metadata (setup.py) ... \u001b[?25l\u001b[?25hdone\n",
            "Requirement already satisfied: py4j==0.10.9.7 in /usr/local/lib/python3.10/dist-packages (from pyspark) (0.10.9.7)\n",
            "Building wheels for collected packages: pyspark\n",
            "  Building wheel for pyspark (setup.py) ... \u001b[?25l\u001b[?25hdone\n",
            "  Created wheel for pyspark: filename=pyspark-3.5.0-py2.py3-none-any.whl size=317425345 sha256=3325d7076039d0d91806f63bda851c23625067dd3109081bfb28915a9d338975\n",
            "  Stored in directory: /root/.cache/pip/wheels/41/4e/10/c2cf2467f71c678cfc8a6b9ac9241e5e44a01940da8fbb17fc\n",
            "Successfully built pyspark\n",
            "Installing collected packages: pyspark\n",
            "Successfully installed pyspark-3.5.0\n"
          ]
        }
      ]
    },
    {
      "cell_type": "code",
      "execution_count": 64,
      "metadata": {
        "id": "byECV_jlQk8s"
      },
      "outputs": [],
      "source": [
        "from pyspark.sql import SparkSession"
      ]
    },
    {
      "cell_type": "code",
      "source": [
        "spark = SparkSession.builder.appName('lrex').getOrCreate()"
      ],
      "metadata": {
        "id": "QR61gsYkc1e5"
      },
      "execution_count": 90,
      "outputs": []
    },
    {
      "cell_type": "code",
      "source": [
        "from pyspark.ml.regression import LinearRegression"
      ],
      "metadata": {
        "id": "PMl2kFeCc5A-"
      },
      "execution_count": 91,
      "outputs": []
    },
    {
      "cell_type": "code",
      "source": [
        "training = spark.read.format(\"libsvm\").load(\"sample_linear_regression_data.txt\")"
      ],
      "metadata": {
        "id": "gASlXnwUc7E3"
      },
      "execution_count": 93,
      "outputs": []
    },
    {
      "cell_type": "code",
      "source": [
        "training.show()"
      ],
      "metadata": {
        "colab": {
          "base_uri": "https://localhost:8080/"
        },
        "id": "bjDww2CKc8u0",
        "outputId": "ced7f400-e4d5-41e5-f5dd-2efaec9258fb"
      },
      "execution_count": 94,
      "outputs": [
        {
          "output_type": "stream",
          "name": "stdout",
          "text": [
            "+-------------------+--------------------+\n",
            "|              label|            features|\n",
            "+-------------------+--------------------+\n",
            "| -9.490009878824548|(10,[0,1,2,3,4,5,...|\n",
            "| 0.2577820163584905|(10,[0,1,2,3,4,5,...|\n",
            "| -4.438869807456516|(10,[0,1,2,3,4,5,...|\n",
            "|-19.782762789614537|(10,[0,1,2,3,4,5,...|\n",
            "| -7.966593841555266|(10,[0,1,2,3,4,5,...|\n",
            "| -7.896274316726144|(10,[0,1,2,3,4,5,...|\n",
            "| -8.464803554195287|(10,[0,1,2,3,4,5,...|\n",
            "| 2.1214592666251364|(10,[0,1,2,3,4,5,...|\n",
            "| 1.0720117616524107|(10,[0,1,2,3,4,5,...|\n",
            "|-13.772441561702871|(10,[0,1,2,3,4,5,...|\n",
            "| -5.082010756207233|(10,[0,1,2,3,4,5,...|\n",
            "|  7.887786536531237|(10,[0,1,2,3,4,5,...|\n",
            "| 14.323146365332388|(10,[0,1,2,3,4,5,...|\n",
            "|-20.057482615789212|(10,[0,1,2,3,4,5,...|\n",
            "|-0.8995693247765151|(10,[0,1,2,3,4,5,...|\n",
            "| -19.16829262296376|(10,[0,1,2,3,4,5,...|\n",
            "|  5.601801561245534|(10,[0,1,2,3,4,5,...|\n",
            "|-3.2256352187273354|(10,[0,1,2,3,4,5,...|\n",
            "| 1.5299675726687754|(10,[0,1,2,3,4,5,...|\n",
            "| -0.250102447941961|(10,[0,1,2,3,4,5,...|\n",
            "+-------------------+--------------------+\n",
            "only showing top 20 rows\n",
            "\n"
          ]
        }
      ]
    },
    {
      "cell_type": "code",
      "source": [
        "lr = LinearRegression(featuresCol='features', labelCol='label', predictionCol='prediction')"
      ],
      "metadata": {
        "id": "mkdfNV-jdLgb"
      },
      "execution_count": 95,
      "outputs": []
    },
    {
      "cell_type": "code",
      "source": [
        "lrModel = lr.fit(training)"
      ],
      "metadata": {
        "id": "zW7kd3EWdPPM"
      },
      "execution_count": 96,
      "outputs": []
    },
    {
      "cell_type": "code",
      "source": [
        "print(\"Coefficients: {}\".format(str(lrModel.coefficients))) # For each feature...\n",
        "print('\\n')\n",
        "print(\"Intercept:{}\".format(str(lrModel.intercept)))"
      ],
      "metadata": {
        "colab": {
          "base_uri": "https://localhost:8080/"
        },
        "id": "pJ44sEYPdQxR",
        "outputId": "63fc9f40-41cc-47ee-b94b-41ac293160ea"
      },
      "execution_count": 97,
      "outputs": [
        {
          "output_type": "stream",
          "name": "stdout",
          "text": [
            "Coefficients: [0.0073350710225801715,0.8313757584337543,-0.8095307954684084,2.441191686884721,0.5191713795290002,1.1534591903547016,-0.2989124112808717,-0.5128514186201779,-0.619712827067017,0.695615180432293]\n",
            "\n",
            "\n",
            "Intercept:0.14228558260358093\n"
          ]
        }
      ]
    },
    {
      "cell_type": "code",
      "source": [
        "trainingSummary = lrModel.summary"
      ],
      "metadata": {
        "id": "9IUmuNeBdSOT"
      },
      "execution_count": 98,
      "outputs": []
    },
    {
      "cell_type": "code",
      "source": [
        "trainingSummary.residuals.show()\n",
        "print(\"RMSE: {}\".format(trainingSummary.rootMeanSquaredError))\n",
        "print(\"r2: {}\".format(trainingSummary.r2))"
      ],
      "metadata": {
        "colab": {
          "base_uri": "https://localhost:8080/"
        },
        "id": "5xX0qGJAdUj1",
        "outputId": "8d0b68c1-7b5c-4ee1-e95c-ed48b90be2bc"
      },
      "execution_count": 99,
      "outputs": [
        {
          "output_type": "stream",
          "name": "stdout",
          "text": [
            "+-------------------+\n",
            "|          residuals|\n",
            "+-------------------+\n",
            "|-11.011130022096554|\n",
            "| 0.9236590911176535|\n",
            "|-4.5957401897776675|\n",
            "|  -20.4201774575836|\n",
            "|-10.339160314788181|\n",
            "|-5.9552091439610555|\n",
            "|-10.726906349283922|\n",
            "| 2.1228071931912336|\n",
            "|  4.077122222293811|\n",
            "|-17.316168071241652|\n",
            "| -4.593044343959059|\n",
            "|  6.380476690746936|\n",
            "| 11.320566035059846|\n",
            "|-20.721971774534094|\n",
            "| -2.736692773777401|\n",
            "| -16.66886934252847|\n",
            "|  8.242186378876315|\n",
            "|-1.3723486332690233|\n",
            "|-0.7060332131264666|\n",
            "|-1.1591135969994064|\n",
            "+-------------------+\n",
            "only showing top 20 rows\n",
            "\n",
            "RMSE: 10.16309157133015\n",
            "r2: 0.027839179518600154\n"
          ]
        }
      ]
    },
    {
      "cell_type": "code",
      "source": [
        "all_data = spark.read.format(\"libsvm\").load(\"sample_linear_regression_data.txt\")"
      ],
      "metadata": {
        "id": "jejb20hadWfH"
      },
      "execution_count": 100,
      "outputs": []
    },
    {
      "cell_type": "code",
      "source": [
        "train_data,test_data = all_data.randomSplit([0.7,0.3])"
      ],
      "metadata": {
        "id": "zA-nYfu_dYeA"
      },
      "execution_count": 101,
      "outputs": []
    },
    {
      "cell_type": "code",
      "source": [
        "train_data.show()"
      ],
      "metadata": {
        "colab": {
          "base_uri": "https://localhost:8080/"
        },
        "id": "AnnOTLY7daXx",
        "outputId": "1cb28e35-6015-48fc-96b7-7b47cce9b2e4"
      },
      "execution_count": 102,
      "outputs": [
        {
          "output_type": "stream",
          "name": "stdout",
          "text": [
            "+-------------------+--------------------+\n",
            "|              label|            features|\n",
            "+-------------------+--------------------+\n",
            "|-28.571478869743427|(10,[0,1,2,3,4,5,...|\n",
            "|-26.805483428483072|(10,[0,1,2,3,4,5,...|\n",
            "| -23.51088409032297|(10,[0,1,2,3,4,5,...|\n",
            "|-23.487440120936512|(10,[0,1,2,3,4,5,...|\n",
            "|-22.837460416919342|(10,[0,1,2,3,4,5,...|\n",
            "|-21.432387764165806|(10,[0,1,2,3,4,5,...|\n",
            "|-20.057482615789212|(10,[0,1,2,3,4,5,...|\n",
            "|-19.872991038068406|(10,[0,1,2,3,4,5,...|\n",
            "|-19.782762789614537|(10,[0,1,2,3,4,5,...|\n",
            "| -19.66731861537172|(10,[0,1,2,3,4,5,...|\n",
            "|-19.402336030214553|(10,[0,1,2,3,4,5,...|\n",
            "| -19.16829262296376|(10,[0,1,2,3,4,5,...|\n",
            "| -18.27521356600463|(10,[0,1,2,3,4,5,...|\n",
            "|-17.803626188664516|(10,[0,1,2,3,4,5,...|\n",
            "|-17.428674570939506|(10,[0,1,2,3,4,5,...|\n",
            "| -17.32672073267595|(10,[0,1,2,3,4,5,...|\n",
            "|-17.065399625876015|(10,[0,1,2,3,4,5,...|\n",
            "|-17.026492264209548|(10,[0,1,2,3,4,5,...|\n",
            "|-16.692207021311106|(10,[0,1,2,3,4,5,...|\n",
            "| -16.26143027545273|(10,[0,1,2,3,4,5,...|\n",
            "+-------------------+--------------------+\n",
            "only showing top 20 rows\n",
            "\n"
          ]
        }
      ]
    },
    {
      "cell_type": "code",
      "source": [
        "test_data.show()"
      ],
      "metadata": {
        "colab": {
          "base_uri": "https://localhost:8080/"
        },
        "id": "QuVUHJ6gdbzI",
        "outputId": "cca83da0-d167-4501-8094-94227c36fab3"
      },
      "execution_count": 103,
      "outputs": [
        {
          "output_type": "stream",
          "name": "stdout",
          "text": [
            "+-------------------+--------------------+\n",
            "|              label|            features|\n",
            "+-------------------+--------------------+\n",
            "|-28.046018037776633|(10,[0,1,2,3,4,5,...|\n",
            "|-26.736207182601724|(10,[0,1,2,3,4,5,...|\n",
            "|-22.949825936196074|(10,[0,1,2,3,4,5,...|\n",
            "|-20.212077258958672|(10,[0,1,2,3,4,5,...|\n",
            "|-19.884560774273424|(10,[0,1,2,3,4,5,...|\n",
            "|-18.845922472898582|(10,[0,1,2,3,4,5,...|\n",
            "|-17.494200356883344|(10,[0,1,2,3,4,5,...|\n",
            "| -16.71909683360509|(10,[0,1,2,3,4,5,...|\n",
            "|-16.151349351277112|(10,[0,1,2,3,4,5,...|\n",
            "| -15.72351561304857|(10,[0,1,2,3,4,5,...|\n",
            "|-15.437384793431217|(10,[0,1,2,3,4,5,...|\n",
            "|-15.310980589416289|(10,[0,1,2,3,4,5,...|\n",
            "|-14.762758252931127|(10,[0,1,2,3,4,5,...|\n",
            "|-14.328978509075442|(10,[0,1,2,3,4,5,...|\n",
            "|-13.867087895158768|(10,[0,1,2,3,4,5,...|\n",
            "|-12.977848725392104|(10,[0,1,2,3,4,5,...|\n",
            "|-12.198096564661412|(10,[0,1,2,3,4,5,...|\n",
            "|-12.094351278535258|(10,[0,1,2,3,4,5,...|\n",
            "| -11.87816749996684|(10,[0,1,2,3,4,5,...|\n",
            "|-11.857350365429426|(10,[0,1,2,3,4,5,...|\n",
            "+-------------------+--------------------+\n",
            "only showing top 20 rows\n",
            "\n"
          ]
        }
      ]
    },
    {
      "cell_type": "code",
      "source": [
        "unlabeled_data = test_data.select('features')"
      ],
      "metadata": {
        "id": "2wd-cU5_deHb"
      },
      "execution_count": 104,
      "outputs": []
    },
    {
      "cell_type": "code",
      "source": [
        "unlabeled_data.show()"
      ],
      "metadata": {
        "colab": {
          "base_uri": "https://localhost:8080/"
        },
        "id": "hF4w7T_YdgbW",
        "outputId": "a758494f-f814-493b-efae-a39e1c2fd893"
      },
      "execution_count": 105,
      "outputs": [
        {
          "output_type": "stream",
          "name": "stdout",
          "text": [
            "+--------------------+\n",
            "|            features|\n",
            "+--------------------+\n",
            "|(10,[0,1,2,3,4,5,...|\n",
            "|(10,[0,1,2,3,4,5,...|\n",
            "|(10,[0,1,2,3,4,5,...|\n",
            "|(10,[0,1,2,3,4,5,...|\n",
            "|(10,[0,1,2,3,4,5,...|\n",
            "|(10,[0,1,2,3,4,5,...|\n",
            "|(10,[0,1,2,3,4,5,...|\n",
            "|(10,[0,1,2,3,4,5,...|\n",
            "|(10,[0,1,2,3,4,5,...|\n",
            "|(10,[0,1,2,3,4,5,...|\n",
            "|(10,[0,1,2,3,4,5,...|\n",
            "|(10,[0,1,2,3,4,5,...|\n",
            "|(10,[0,1,2,3,4,5,...|\n",
            "|(10,[0,1,2,3,4,5,...|\n",
            "|(10,[0,1,2,3,4,5,...|\n",
            "|(10,[0,1,2,3,4,5,...|\n",
            "|(10,[0,1,2,3,4,5,...|\n",
            "|(10,[0,1,2,3,4,5,...|\n",
            "|(10,[0,1,2,3,4,5,...|\n",
            "|(10,[0,1,2,3,4,5,...|\n",
            "+--------------------+\n",
            "only showing top 20 rows\n",
            "\n"
          ]
        }
      ]
    },
    {
      "cell_type": "code",
      "source": [
        "correct_model = lr.fit(train_data)"
      ],
      "metadata": {
        "id": "CFM7o-Kcdh0q"
      },
      "execution_count": 106,
      "outputs": []
    },
    {
      "cell_type": "code",
      "source": [
        "test_results = correct_model.evaluate(test_data)"
      ],
      "metadata": {
        "id": "Yedb1m5DdjRH"
      },
      "execution_count": 107,
      "outputs": []
    },
    {
      "cell_type": "code",
      "source": [
        "test_results.residuals.show()\n",
        "print(\"RMSE: {}\".format(test_results.rootMeanSquaredError))"
      ],
      "metadata": {
        "colab": {
          "base_uri": "https://localhost:8080/"
        },
        "id": "FfkiXruhdk0I",
        "outputId": "6a1c7522-362f-43df-9f97-91e6ad6218e1"
      },
      "execution_count": 108,
      "outputs": [
        {
          "output_type": "stream",
          "name": "stdout",
          "text": [
            "+-------------------+\n",
            "|          residuals|\n",
            "+-------------------+\n",
            "|-27.157310730503998|\n",
            "|-23.940250441359805|\n",
            "| -26.68342388217344|\n",
            "| -21.80224530732658|\n",
            "|-21.827890738206342|\n",
            "|-19.956461618995984|\n",
            "| -16.04332242011562|\n",
            "|-17.113562197247123|\n",
            "|-17.254888492702328|\n",
            "|  -18.5676328041694|\n",
            "|-15.201744337120658|\n",
            "|-14.023219694247357|\n",
            "|-14.415997528079586|\n",
            "|-17.779334734604916|\n",
            "|-11.251288725353218|\n",
            "|-13.166504213425439|\n",
            "|-16.165897316381347|\n",
            "|-11.705027490908048|\n",
            "|-11.369198277880647|\n",
            "|-10.012300309867989|\n",
            "+-------------------+\n",
            "only showing top 20 rows\n",
            "\n",
            "RMSE: 10.2618409233819\n"
          ]
        }
      ]
    },
    {
      "cell_type": "code",
      "source": [
        "predictions = correct_model.transform(unlabeled_data)"
      ],
      "metadata": {
        "id": "ysNjRoB3dmai"
      },
      "execution_count": 109,
      "outputs": []
    },
    {
      "cell_type": "code",
      "source": [
        "predictions.show()"
      ],
      "metadata": {
        "id": "OJg5O00xdoMo",
        "outputId": "401cea78-ca5f-481f-f457-d02a0acf8eef",
        "colab": {
          "base_uri": "https://localhost:8080/"
        }
      },
      "execution_count": 110,
      "outputs": [
        {
          "output_type": "stream",
          "name": "stdout",
          "text": [
            "+--------------------+--------------------+\n",
            "|            features|          prediction|\n",
            "+--------------------+--------------------+\n",
            "|(10,[0,1,2,3,4,5,...| -0.8887073072726367|\n",
            "|(10,[0,1,2,3,4,5,...|  -2.795956741241919|\n",
            "|(10,[0,1,2,3,4,5,...|  3.7335979459773667|\n",
            "|(10,[0,1,2,3,4,5,...|   1.590168048367909|\n",
            "|(10,[0,1,2,3,4,5,...|   1.943329963932918|\n",
            "|(10,[0,1,2,3,4,5,...|   1.110539146097402|\n",
            "|(10,[0,1,2,3,4,5,...|  -1.450877936767725|\n",
            "|(10,[0,1,2,3,4,5,...|  0.3944653636420346|\n",
            "|(10,[0,1,2,3,4,5,...|  1.1035391414252147|\n",
            "|(10,[0,1,2,3,4,5,...|   2.844117191120829|\n",
            "|(10,[0,1,2,3,4,5,...|-0.23564045631055833|\n",
            "|(10,[0,1,2,3,4,5,...|  -1.287760895168931|\n",
            "|(10,[0,1,2,3,4,5,...|-0.34676072485153997|\n",
            "|(10,[0,1,2,3,4,5,...|  3.4503562255294717|\n",
            "|(10,[0,1,2,3,4,5,...| -2.6157991698055496|\n",
            "|(10,[0,1,2,3,4,5,...|  0.1886554880333348|\n",
            "|(10,[0,1,2,3,4,5,...|  3.9678007517199343|\n",
            "|(10,[0,1,2,3,4,5,...|-0.38932378762720976|\n",
            "|(10,[0,1,2,3,4,5,...| -0.5089692220861931|\n",
            "|(10,[0,1,2,3,4,5,...|  -1.845050055561437|\n",
            "+--------------------+--------------------+\n",
            "only showing top 20 rows\n",
            "\n"
          ]
        }
      ]
    },
    {
      "cell_type": "code",
      "source": [],
      "metadata": {
        "id": "u0MJ6WC8dphj"
      },
      "execution_count": null,
      "outputs": []
    }
  ]
}