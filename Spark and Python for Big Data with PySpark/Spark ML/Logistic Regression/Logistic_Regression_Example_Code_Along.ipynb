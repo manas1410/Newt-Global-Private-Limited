{
  "nbformat": 4,
  "nbformat_minor": 0,
  "metadata": {
    "colab": {
      "provenance": []
    },
    "kernelspec": {
      "name": "python3",
      "display_name": "Python 3"
    },
    "language_info": {
      "name": "python"
    }
  },
  "cells": [
    {
      "cell_type": "markdown",
      "source": [],
      "metadata": {
        "id": "VbmnVnRfXvcB"
      }
    },
    {
      "cell_type": "code",
      "source": [
        "!pip install pyspark"
      ],
      "metadata": {
        "colab": {
          "base_uri": "https://localhost:8080/"
        },
        "id": "cWj_AQvWQ_8D",
        "outputId": "c3aa27bc-df4d-443f-cf9a-d8646643885a"
      },
      "execution_count": 136,
      "outputs": [
        {
          "output_type": "stream",
          "name": "stdout",
          "text": [
            "Requirement already satisfied: pyspark in /usr/local/lib/python3.10/dist-packages (3.5.0)\n",
            "Requirement already satisfied: py4j==0.10.9.7 in /usr/local/lib/python3.10/dist-packages (from pyspark) (0.10.9.7)\n"
          ]
        }
      ]
    },
    {
      "cell_type": "code",
      "execution_count": 137,
      "metadata": {
        "id": "byECV_jlQk8s"
      },
      "outputs": [],
      "source": [
        "from pyspark.sql import SparkSession"
      ]
    },
    {
      "cell_type": "code",
      "source": [
        "spark = SparkSession.builder.appName('mylogreg').getOrCreate()"
      ],
      "metadata": {
        "id": "Qw0WJ8SHeLwa"
      },
      "execution_count": 135,
      "outputs": []
    },
    {
      "cell_type": "code",
      "source": [
        "from pyspark.ml.classification import LogisticRegression"
      ],
      "metadata": {
        "id": "x-sZgcUmnCAL"
      },
      "execution_count": 138,
      "outputs": []
    },
    {
      "cell_type": "code",
      "source": [
        "# Load training data\n",
        "training = spark.read.format(\"libsvm\").load(\"sample_libsvm_data.txt\")\n",
        "\n",
        "lr = LogisticRegression()\n",
        "\n",
        "# Fit the model\n",
        "lrModel = lr.fit(training)\n",
        "\n",
        "trainingSummary = lrModel.summary"
      ],
      "metadata": {
        "id": "csSa0RJvnXG0"
      },
      "execution_count": 140,
      "outputs": []
    },
    {
      "cell_type": "code",
      "source": [
        "trainingSummary.predictions.show()"
      ],
      "metadata": {
        "colab": {
          "base_uri": "https://localhost:8080/"
        },
        "id": "V5WIXCTpnZsd",
        "outputId": "0339fa68-2df1-4818-dbb6-4bf9efbf8a91"
      },
      "execution_count": 141,
      "outputs": [
        {
          "output_type": "stream",
          "name": "stdout",
          "text": [
            "+-----+--------------------+--------------------+--------------------+----------+\n",
            "|label|            features|       rawPrediction|         probability|prediction|\n",
            "+-----+--------------------+--------------------+--------------------+----------+\n",
            "|  0.0|(692,[127,128,129...|[20.3777627514862...|[0.99999999858729...|       0.0|\n",
            "|  1.0|(692,[158,159,160...|[-21.114014198867...|[6.76550380001560...|       1.0|\n",
            "|  1.0|(692,[124,125,126...|[-23.743613234676...|[4.87842678715831...|       1.0|\n",
            "|  1.0|(692,[152,153,154...|[-19.192574012719...|[4.62137287298722...|       1.0|\n",
            "|  1.0|(692,[151,152,153...|[-20.125398874697...|[1.81823629113437...|       1.0|\n",
            "|  0.0|(692,[129,130,131...|[20.4890549504187...|[0.99999999873608...|       0.0|\n",
            "|  1.0|(692,[158,159,160...|[-21.082940212813...|[6.97903542824686...|       1.0|\n",
            "|  1.0|(692,[99,100,101,...|[-19.622713503566...|[3.00582577441380...|       1.0|\n",
            "|  0.0|(692,[154,155,156...|[21.1594863606570...|[0.99999999935352...|       0.0|\n",
            "|  0.0|(692,[127,128,129...|[28.1036706837273...|[0.99999999999937...|       0.0|\n",
            "|  1.0|(692,[154,155,156...|[-21.054076780105...|[7.18340962960684...|       1.0|\n",
            "|  0.0|(692,[153,154,155...|[26.9648490510173...|[0.99999999999805...|       0.0|\n",
            "|  0.0|(692,[151,152,153...|[32.7855654161393...|[0.99999999999999...|       0.0|\n",
            "|  1.0|(692,[129,130,131...|[-20.331839179665...|[1.47908944090011...|       1.0|\n",
            "|  0.0|(692,[154,155,156...|[21.7830579106565...|[0.99999999965347...|       0.0|\n",
            "|  1.0|(692,[150,151,152...|[-20.640562103727...|[1.08621994880504...|       1.0|\n",
            "|  0.0|(692,[124,125,126...|[22.6400775503740...|[0.99999999985292...|       0.0|\n",
            "|  0.0|(692,[152,153,154...|[38.0712919910898...|           [1.0,0.0]|       0.0|\n",
            "|  1.0|(692,[97,98,99,12...|[-19.830803265627...|[2.44113371545821...|       1.0|\n",
            "|  1.0|(692,[124,125,126...|[-21.016054806035...|[7.46179590485056...|       1.0|\n",
            "+-----+--------------------+--------------------+--------------------+----------+\n",
            "only showing top 20 rows\n",
            "\n"
          ]
        }
      ]
    },
    {
      "cell_type": "code",
      "source": [
        "from pyspark.mllib.evaluation import MulticlassMetrics"
      ],
      "metadata": {
        "id": "vjLAO2UgnfHV"
      },
      "execution_count": 142,
      "outputs": []
    },
    {
      "cell_type": "code",
      "source": [
        "lrModel.evaluate(training)"
      ],
      "metadata": {
        "colab": {
          "base_uri": "https://localhost:8080/"
        },
        "id": "DVOudAuvnhFx",
        "outputId": "315427ce-3d1f-4bf9-a7cb-011f792018de"
      },
      "execution_count": 143,
      "outputs": [
        {
          "output_type": "execute_result",
          "data": {
            "text/plain": [
              "<pyspark.ml.classification.BinaryLogisticRegressionSummary at 0x7ff1faa1a1a0>"
            ]
          },
          "metadata": {},
          "execution_count": 143
        }
      ]
    },
    {
      "cell_type": "code",
      "source": [
        "predictionAndLabels = lrModel.evaluate(training)"
      ],
      "metadata": {
        "id": "0fozaQfGniaK"
      },
      "execution_count": 144,
      "outputs": []
    },
    {
      "cell_type": "code",
      "source": [
        "predictionAndLabels.predictions.show()"
      ],
      "metadata": {
        "colab": {
          "base_uri": "https://localhost:8080/"
        },
        "id": "Ygv5H2Cznjva",
        "outputId": "f68ad2a6-2d10-400b-c9ab-f1f36b2cafed"
      },
      "execution_count": 145,
      "outputs": [
        {
          "output_type": "stream",
          "name": "stdout",
          "text": [
            "+-----+--------------------+--------------------+--------------------+----------+\n",
            "|label|            features|       rawPrediction|         probability|prediction|\n",
            "+-----+--------------------+--------------------+--------------------+----------+\n",
            "|  0.0|(692,[127,128,129...|[20.3777627514862...|[0.99999999858729...|       0.0|\n",
            "|  1.0|(692,[158,159,160...|[-21.114014198867...|[6.76550380001560...|       1.0|\n",
            "|  1.0|(692,[124,125,126...|[-23.743613234676...|[4.87842678715831...|       1.0|\n",
            "|  1.0|(692,[152,153,154...|[-19.192574012719...|[4.62137287298722...|       1.0|\n",
            "|  1.0|(692,[151,152,153...|[-20.125398874697...|[1.81823629113437...|       1.0|\n",
            "|  0.0|(692,[129,130,131...|[20.4890549504187...|[0.99999999873608...|       0.0|\n",
            "|  1.0|(692,[158,159,160...|[-21.082940212813...|[6.97903542824686...|       1.0|\n",
            "|  1.0|(692,[99,100,101,...|[-19.622713503566...|[3.00582577441380...|       1.0|\n",
            "|  0.0|(692,[154,155,156...|[21.1594863606570...|[0.99999999935352...|       0.0|\n",
            "|  0.0|(692,[127,128,129...|[28.1036706837273...|[0.99999999999937...|       0.0|\n",
            "|  1.0|(692,[154,155,156...|[-21.054076780105...|[7.18340962960684...|       1.0|\n",
            "|  0.0|(692,[153,154,155...|[26.9648490510173...|[0.99999999999805...|       0.0|\n",
            "|  0.0|(692,[151,152,153...|[32.7855654161393...|[0.99999999999999...|       0.0|\n",
            "|  1.0|(692,[129,130,131...|[-20.331839179665...|[1.47908944090011...|       1.0|\n",
            "|  0.0|(692,[154,155,156...|[21.7830579106565...|[0.99999999965347...|       0.0|\n",
            "|  1.0|(692,[150,151,152...|[-20.640562103727...|[1.08621994880504...|       1.0|\n",
            "|  0.0|(692,[124,125,126...|[22.6400775503740...|[0.99999999985292...|       0.0|\n",
            "|  0.0|(692,[152,153,154...|[38.0712919910898...|           [1.0,0.0]|       0.0|\n",
            "|  1.0|(692,[97,98,99,12...|[-19.830803265627...|[2.44113371545821...|       1.0|\n",
            "|  1.0|(692,[124,125,126...|[-21.016054806035...|[7.46179590485056...|       1.0|\n",
            "+-----+--------------------+--------------------+--------------------+----------+\n",
            "only showing top 20 rows\n",
            "\n"
          ]
        }
      ]
    },
    {
      "cell_type": "code",
      "source": [
        "predictionAndLabels = predictionAndLabels.predictions.select('label','prediction')"
      ],
      "metadata": {
        "id": "ym99yej3nlT1"
      },
      "execution_count": 146,
      "outputs": []
    },
    {
      "cell_type": "code",
      "source": [
        "predictionAndLabels.show()"
      ],
      "metadata": {
        "colab": {
          "base_uri": "https://localhost:8080/"
        },
        "id": "KYORi2ufnmwc",
        "outputId": "78f76e8e-2535-44d0-8d0e-ace705cf9f5e"
      },
      "execution_count": 147,
      "outputs": [
        {
          "output_type": "stream",
          "name": "stdout",
          "text": [
            "+-----+----------+\n",
            "|label|prediction|\n",
            "+-----+----------+\n",
            "|  0.0|       0.0|\n",
            "|  1.0|       1.0|\n",
            "|  1.0|       1.0|\n",
            "|  1.0|       1.0|\n",
            "|  1.0|       1.0|\n",
            "|  0.0|       0.0|\n",
            "|  1.0|       1.0|\n",
            "|  1.0|       1.0|\n",
            "|  0.0|       0.0|\n",
            "|  0.0|       0.0|\n",
            "|  1.0|       1.0|\n",
            "|  0.0|       0.0|\n",
            "|  0.0|       0.0|\n",
            "|  1.0|       1.0|\n",
            "|  0.0|       0.0|\n",
            "|  1.0|       1.0|\n",
            "|  0.0|       0.0|\n",
            "|  0.0|       0.0|\n",
            "|  1.0|       1.0|\n",
            "|  1.0|       1.0|\n",
            "+-----+----------+\n",
            "only showing top 20 rows\n",
            "\n"
          ]
        }
      ]
    },
    {
      "cell_type": "code",
      "source": [
        "from pyspark.ml.evaluation import BinaryClassificationEvaluator,MulticlassClassificationEvaluator"
      ],
      "metadata": {
        "id": "HKzsY4vonoEE"
      },
      "execution_count": 148,
      "outputs": []
    },
    {
      "cell_type": "code",
      "source": [
        "evaluator = BinaryClassificationEvaluator(rawPredictionCol='prediction', labelCol='label')"
      ],
      "metadata": {
        "id": "m8rNpeyCnrY6"
      },
      "execution_count": 149,
      "outputs": []
    },
    {
      "cell_type": "code",
      "source": [
        "# For multiclass\n",
        "evaluator = MulticlassClassificationEvaluator(predictionCol='prediction', labelCol='label',\n",
        "                                             metricName='accuracy')"
      ],
      "metadata": {
        "id": "2hSdTT7ansqf"
      },
      "execution_count": 150,
      "outputs": []
    },
    {
      "cell_type": "code",
      "source": [
        "acc = evaluator.evaluate(predictionAndLabels)"
      ],
      "metadata": {
        "id": "4crd8jkenuMS"
      },
      "execution_count": 151,
      "outputs": []
    },
    {
      "cell_type": "code",
      "source": [
        "acc"
      ],
      "metadata": {
        "id": "OuhJwCxqnvZG",
        "outputId": "d97f46ad-3fc5-4828-ace0-4cee562260bb",
        "colab": {
          "base_uri": "https://localhost:8080/"
        }
      },
      "execution_count": 152,
      "outputs": [
        {
          "output_type": "execute_result",
          "data": {
            "text/plain": [
              "1.0"
            ]
          },
          "metadata": {},
          "execution_count": 152
        }
      ]
    },
    {
      "cell_type": "code",
      "source": [],
      "metadata": {
        "id": "vFe7yrEpnwiX"
      },
      "execution_count": null,
      "outputs": []
    }
  ]
}